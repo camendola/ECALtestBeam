{
 "cells": [
  {
   "cell_type": "code",
   "execution_count": 1,
   "metadata": {},
   "outputs": [
    {
     "name": "stdout",
     "output_type": "stream",
     "text": [
      "Welcome to JupyROOT 6.18/00\n"
     ]
    },
    {
     "data": {
      "text/plain": [
       "0"
      ]
     },
     "execution_count": 1,
     "metadata": {},
     "output_type": "execute_result"
    }
   ],
   "source": [
    "import ROOT\n",
    "import pandas as pd\n",
    "from copy import deepcopy\n",
    "\n",
    "from utils.H4RecoRDFLoader import LoadH4RecoData\n",
    "\n",
    "ROOT.gROOT.Macro('../setStyle.C')\n",
    "ROOT.gROOT.LoadMacro('../FPCanvasStyle.C')"
   ]
  },
  {
   "cell_type": "code",
   "execution_count": 2,
   "metadata": {},
   "outputs": [
    {
     "name": "stderr",
     "output_type": "stream",
     "text": [
      "Warning in <TClass::Init>: no dictionary for class PositionMeasurement is available\n",
      "Warning in <TClass::Init>: no dictionary for class TrackPar is available\n",
      "Warning in <TClass::Init>: no dictionary for class Tracking::TelescopeLayer is available\n",
      "Warning in <TClass::Init>: no dictionary for class Tracking::TelescopeLayout is available\n",
      "Warning in <TClass::Init>: no dictionary for class CfgManager is available\n"
     ]
    }
   ],
   "source": [
    "runlist = pd.read_csv('data/intercalibration18deg.csv', header=None, names=['run', 'energy', 'position', 'table_x', 'table_y', 'n_events'])\n",
    "\n",
    "h4df = LoadH4RecoData(files=['/eos/user/s/spigazzi/ntuples/ECAL/Upgrade/ECAL_TB_Oct2018/ntuples_v8/ECAL_H4_October2018_%d.root' % run for run in runlist['run']])\n",
    "\n",
    "h4df = h4df.Filter('n_tracks==1 && fabs(X[0]+5)<5 && fabs(Y[0]-4)< 2')\n",
    "\n",
    "dfs = {}\n",
    "\n",
    "channels = ['A1', 'A2', 'A3',\n",
    "           'B1', 'B2', 'B3', 'B4', 'B5',\n",
    "           'C1', 'C2', 'C3', 'C4', 'C5',\n",
    "           'D1', 'D2', 'D3', 'D4', 'D5',\n",
    "           'E1', 'E2', 'E3']\n",
    "\n",
    "h4df = h4df.Define('trk_x', 'X[0]+5')\n",
    "h4df = h4df.Define('trk_y', 'Y[0]-4')\n",
    "for ch in channels:\n",
    "    #dfs[ch] = h4df.Filter('run==%d'%runlist.loc[runlist['position']==ch, 'run'])\n",
    "    dfs[ch] = h4df.Filter('Positions==\"%s\"'%ch)\n",
    "    dfs[ch] = dfs[ch].Define('ampl_%s'%ch, 'fit_ampl[%s]*ampl_calib[%s]'%(ch,ch))    \n",
    "    dfs[ch] = dfs[ch].Define('time_%s'%ch, 'fit_time[%s]'%ch)\n",
    "    dfs[ch] = dfs[ch].Define('dt_mcp1_%s'%ch, 'time_%s-fit_time[MCP1]+fit_time[VFE_CLK]-int((time_%s-fit_time[MCP1]+fit_time[VFE_CLK])/6.238)*6.238'%(ch,ch))\n",
    "    dfs[ch] = dfs[ch].Define('dt_mcp2_%s'%ch, 'time_%s-fit_time[MCP2]+fit_time[VFE_CLK]-int((time_%s-fit_time[MCP2]+fit_time[VFE_CLK])/6.238)*6.238'%(ch,ch))    \n"
   ]
  },
  {
   "cell_type": "code",
   "execution_count": 5,
   "metadata": {},
   "outputs": [
    {
     "name": "stdout",
     "output_type": "stream",
     "text": [
      "\n",
      "****************************************\n",
      "Minimizer is Linear\n",
      "Chi2                      =      38.7469\n",
      "NDf                       =            7\n",
      "p0                        =     0.735891   +/-   0.000492282 \n",
      "p1                        =  -0.00118943   +/-   0.00013355  \n",
      "p2                        = -0.000434762   +/-   5.14056e-05 \n",
      "\n",
      "****************************************\n",
      "Minimizer is Linear\n",
      "Chi2                      =      5.60272\n",
      "NDf                       =            7\n",
      "p0                        =     0.858175   +/-   0.00159179  \n",
      "p1                        =  -0.00185184   +/-   0.00045234  \n",
      "p2                        =  0.000384694   +/-   0.000170815 \n",
      "\n",
      "****************************************\n",
      "Minimizer is Linear\n",
      "Chi2                      =      14.7573\n",
      "NDf                       =            7\n",
      "p0                        =      1.15224   +/-   0.000449706 \n",
      "p1                        =  -0.00148963   +/-   0.000118379 \n",
      "p2                        =  0.000565225   +/-   4.59769e-05 \n"
     ]
    },
    {
     "data": {
      "image/png": "[encoded data removed]",
      "text/plain": [
       "<IPython.core.display.Image object>"
      ]
     },
     "metadata": {},
     "output_type": "display_data"
    }
   ],
   "source": [
    "pr_time = {}\n",
    "for ch in ['C2', 'D3', 'C3']:\n",
    "    df = dfs[ch]\n",
    "    pr = df.Histo2D(('pr_t_%s'%ch, '', 20, -10, 10, 100, 0, 2), 'trk_x', 'dt_mcp2_%s'%ch)\n",
    "    \n",
    "    c = ROOT.TCanvas()\n",
    "    fgaus = ROOT.TF1(\"fgaus\", \"gaus\", 0, 2)\n",
    "    pr.FitSlicesY(fgaus)\n",
    "    pr_time[ch] = deepcopy(ROOT.gDirectory.Get('pr_t_%s_1'%ch))\n",
    "    pr_time[ch].SetAxisRange(0, 2, \"Y\")\n",
    "    pr_time[ch].Fit('pol2')\n",
    "    pr_time[ch].Draw('')\n",
    "    c.Draw()"
   ]
  },
  {
   "cell_type": "code",
   "execution_count": 4,
   "metadata": {},
   "outputs": [
    {
     "name": "stdout",
     "output_type": "stream",
     "text": [
      "-0.42173154886250397\n",
      "-0.2903209782113716\n"
     ]
    }
   ],
   "source": [
    "fC2 = pr_time['C2'].GetFunction('pol2')\n",
    "fC3 = pr_time['C3'].GetFunction('pol2')\n",
    "fC4 = pr_time['D3'].GetFunction('pol2')\n",
    "\n",
    "print(fC2.Eval(fC2.GetParameter(1)/(2*fC2.GetParameter(2)))-fC3.Eval(fC3.GetParameter(1)/(2*fC3.GetParameter(2))))\n",
    "print(fC4.Eval(fC4.GetParameter(1)/(2*fC4.GetParameter(2)))-fC3.Eval(fC3.GetParameter(1)/(2*fC3.GetParameter(2))))"
   ]
  },
  {
   "cell_type": "code",
   "execution_count": null,
   "metadata": {},
   "outputs": [],
   "source": []
  }
 ],
 "metadata": {
  "kernelspec": {
   "display_name": "Python 3",
   "language": "python",
   "name": "python3"
  },
  "language_info": {
   "codemirror_mode": {
    "name": "ipython",
    "version": 3
   },
   "file_extension": ".py",
   "mimetype": "text/x-python",
   "name": "python",
   "nbconvert_exporter": "python",
   "pygments_lexer": "ipython3",
   "version": "3.6.5"
  }
 },
 "nbformat": 4,
 "nbformat_minor": 2
}
