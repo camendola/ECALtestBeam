{
 "cells": [
  {
   "cell_type": "code",
   "execution_count": null,
   "metadata": {},
   "outputs": [],
   "source": [
    "import ROOT\n",
    "from ROOT import RooRealVar,RooCBShape,RooDataHist,RooArgList,RooFit\n",
    "from ROOT import gROOT,gStyle,gPad\n",
    "from ROOT import std\n",
    "import csv\n",
    "import json\n",
    "import array as array\n",
    "import matplotlib\n",
    "import matplotlib.pyplot as plt\n",
    "from scipy.optimize import curve_fit\n",
    "import os\n",
    "\n",
    "import numpy as np\n",
    "\n",
    "\n",
    "import sys\n",
    "sys.path.insert(0, 'utils/')\n",
    "import CBfunction as CB\n",
    "reload(CB)\n",
    "import CrystalMap as crystMap\n",
    "reload(crystMap)\n",
    "from uncertainties import unumpy\n",
    "from uncertainties import ufloat"
   ]
  },
  {
   "cell_type": "code",
   "execution_count": null,
   "metadata": {},
   "outputs": [],
   "source": [
    "dir_str = '/02_08_2019/'\n",
    "plot_folder = 'plots/'+dir_str\n",
    "output_folder = 'output/'+dir_str\n",
    "if not os.path.exists(plot_folder):\n",
    "    os.makedirs(plot_folder)\n",
    "if not os.path.exists(output_folder):\n",
    "    os.makedirs(output_folder)"
   ]
  },
  {
   "cell_type": "code",
   "execution_count": null,
   "metadata": {},
   "outputs": [],
   "source": [
    "dict_C3_energy_scan = {}\n",
    "##Now add runs for C2,C3,C4 \n",
    "reader = csv.reader(open('data/energyscans19C.csv', 'r'))\n",
    "for row in reader:\n",
    "    run,energy,crystal,_,_,_ = row\n",
    "    if crystal=='C3' :\n",
    "        if energy in dict_C3_energy_scan.keys() :\n",
    "            dict_C3_energy_scan[energy].append(run)\n",
    "        else : \n",
    "            dict_C3_energy_scan[energy] = []\n",
    "            dict_C3_energy_scan[energy].append(run)        \n",
    "\n",
    "            \n",
    "## Read crystal centers prepared by Simone \n",
    "reader = csv.reader(open('data/crystalscenters.csv', 'r'))\n",
    "dict_crystal_centers={}\n",
    "for row in reader:\n",
    "    crystal,xpos,ypos = row\n",
    "    if crystal!='Crystal' :\n",
    "        dict_crystal_centers[crystal] = [int(xpos),int(ypos)]\n",
    "        \n",
    "dict_crystal_centers['C3_3x3'] =[4,5]       \n",
    "        \n",
    "naming = []\n",
    "for i in range(5,0,-1):\n",
    "    naming.append('A%d'%i)\n",
    "    naming.append('B%d'%i)\n",
    "    naming.append('C%d'%i)\n",
    "    naming.append('D%d'%i)\n",
    "    naming.append('E%d'%i)\n",
    "missing = 'A5,A4,E5,E4'.split(',')\n",
    "working = [item for item in naming]\n",
    "for item in missing:\n",
    "    working.remove(item)\n",
    "    \n",
    "matrix_3 = 'B4,C4,D4,B3,C3,D3,B2,C2,D2'.split(',')\n",
    "matrix_5 = 'B5,C5,D5,B4,C4,D4,B3,C3,D3,B2,C2,D2,A1,B1,C1,D1,E1'.split(',')            "
   ]
  },
  {
   "cell_type": "code",
   "execution_count": null,
   "metadata": {},
   "outputs": [],
   "source": [
    "outstr = 'time_v7'\n",
    "#trees_path = '/eos/cms/store/group/dpg_ecal/comm_ecal/upgrade/testbeam/ECALTB_H4_Oct2018/ntuples_v5/'\n",
    "trees_path = '/eos/user/n/nchernya/ntuples/ECAL/Upgrade/ECAL_TB_Oct2018/ntuples_v7/'"
   ]
  },
  {
   "cell_type": "code",
   "execution_count": null,
   "metadata": {},
   "outputs": [],
   "source": [
    "reload(crystMap)\n",
    "\n",
    "canvas_num=0\n",
    "c = ROOT.TCanvas(\"c\",\"c\",500,500)\n",
    "crystal='C3'\n",
    "energies = sorted([float(item) for item in dict_C3_energy_scan.keys()])\n",
    "energy  = str(energies[-1])\n",
    "runs = dict_C3_energy_scan[energy]\n",
    "tree = ROOT.TChain(\"h4\")\n",
    "for run in runs:\n",
    "    tree.Add(\"%s/ECAL_H4_October2018_%s.root\"%(trees_path,run))\n",
    "selection = 'fit_ampl[MCP1]>100 && fit_ampl[%s]>1000 && n_tracks==1 && fabs(X-(%.2f))<4 && fabs(Y-(%.2f))<4'%(crystal,dict_crystal_centers[crystal][0],dict_crystal_centers[crystal][1])\n",
    "hist = ROOT.TH1F('h','h',100,2000,3000)\n",
    "tree.Draw(\"((fit_time[%s]-fit_time[MCP1]+fit_time[VFE_CLK])-int((fit_time[%s]-fit_time[MCP1]+fit_time[VFE_CLK])/6.238)*6.238)*1000>>h\"%(crystal,crystal),selection)\n",
    "hist.Draw(\"HIST\")\n",
    "c.Draw()"
   ]
  },
  {
   "cell_type": "code",
   "execution_count": null,
   "metadata": {},
   "outputs": [],
   "source": []
  },
  {
   "cell_type": "markdown",
   "metadata": {},
   "source": [
    "# Prepare time data for the minimization"
   ]
  },
  {
   "cell_type": "code",
   "execution_count": null,
   "metadata": {},
   "outputs": [],
   "source": [
    "import pandas as pd\n",
    "\n",
    "crystal='C3'\n",
    "energies = sorted([float(item) for item in dict_C3_energy_scan.keys()])\n",
    "energy  = str(energies[-1])\n",
    "print energy\n",
    "runs = dict_C3_energy_scan[energy]\n",
    "tree = ROOT.TChain(\"h4\")\n",
    "for run in runs:\n",
    "    tree.Add(\"%s/ECAL_H4_October2018_%s.root\"%(trees_path,run))\n",
    "#selection = 'fit_ampl[MCP1]>100 && fit_ampl[MCP2]>100 && fit_ampl[%s]>1000 && n_tracks==1 && fabs(X-(%.2f))<4 && fabs(Y-(%.2f))<4'%(crystal,dict_crystal_centers[crystal][0],dict_crystal_centers[crystal][1])\n",
    "pos_cut = 4\n",
    "data = []\n",
    "for evt in tree:\n",
    "    if evt.fit_ampl[getattr(evt, crystal)]>1000 and evt.fit_ampl[evt.MCP1]>100 and evt.fit_ampl[evt.MCP2]>100 and evt.n_tracks==1 and abs(evt.X[0]-dict_crystal_centers[crystal][0])<pos_cut and abs(evt.Y[0]-dict_crystal_centers[crystal][1])<pos_cut : \n",
    "        evt_dict = {}\n",
    "        evt_dict['Energy'] = evt.Energy\n",
    "        evt_dict['fit_ampl_MCP1'] = evt.fit_ampl[evt.MCP1]\n",
    "        evt_dict['fit_ampl_MCP2'] = evt.fit_ampl[evt.MCP2]\n",
    "        evt_dict['fit_time_MCP1'] = evt.fit_time[evt.MCP1]\n",
    "        evt_dict['fit_time_MCP2'] = evt.fit_time[evt.MCP2]\n",
    "        for xstal in ['C3']:\n",
    "            evt_dict['fit_ampl_'+xstal] = evt.fit_ampl[getattr(evt, xstal)]\n",
    "            evt_dict['noise_'+xstal] = evt.b_rms[getattr(evt, xstal)]\n",
    "            evt_dict['fit_time_'+xstal] = evt.fit_time[getattr(evt, xstal)]\n",
    "            evt_dict['dt_ecal_mcp1_'+xstal] = ((evt.fit_time[getattr(evt, xstal)]-evt.fit_time[evt.MCP1]+evt.fit_time[evt.VFE_CLK])-int((evt.fit_time[getattr(evt, xstal)]-evt.fit_time[evt.MCP1]+evt.fit_time[evt.VFE_CLK])/6.238)*6.238)*1000\n",
    "            evt_dict['dt_ecal_mcp2_'+xstal] = ((evt.fit_time[getattr(evt, xstal)]-evt.fit_time[evt.MCP2]+evt.fit_time[evt.VFE_CLK])-int((evt.fit_time[getattr(evt, xstal)]-evt.fit_time[evt.MCP2]+evt.fit_time[evt.VFE_CLK])/6.238)*6.238)*1000\n",
    "            evt_dict['dt_mcp2_mcp1_'+xstal] = (evt.fit_time[evt.MCP2]-evt.fit_time[evt.MCP1])*1000.\n",
    "        data.append(evt_dict)\n",
    "\n",
    "df = pd.DataFrame(data)    \n"
   ]
  },
  {
   "cell_type": "code",
   "execution_count": 6,
   "metadata": {},
   "outputs": [
    {
     "name": "stdout",
     "output_type": "stream",
     "text": [
      "(65535, 11)\n"
     ]
    }
   ],
   "source": [
    "print df.shape"
   ]
  },
  {
   "cell_type": "code",
   "execution_count": null,
   "metadata": {},
   "outputs": [],
   "source": [
    "gROOT.LoadMacro('utils/LLminimizer/LLminimizer.cc')\n"
   ]
  },
  {
   "cell_type": "code",
   "execution_count": null,
   "metadata": {},
   "outputs": [],
   "source": [
    "#from array import array\n",
    "#time_minimizer = ROOT.LLminimizer(array('d',list(df['fit_ampl_MCP1'])),array('d',list(df['fit_ampl_MCP2'])), \n",
    " #                          array('d',list(df['dt_ecal_mcp1_C3'])),array('d',list(df['dt_ecal_mcp2_C3'])),\n",
    "  #                         array('d',list(df['dt_mcp2_mcp1_C3'])),crystal,energy)\n"
   ]
  },
  {
   "cell_type": "code",
   "execution_count": null,
   "metadata": {},
   "outputs": [],
   "source": [
    "#inputs = [std.vector('double')(10),std.vector('double')(10),std.vector('double')(10),std.vector('double')(10),std.vector('double')(10)]\n",
    "#inputs_names = ['fit_ampl_MCP1','fit_ampl_MCP2','dt_ecal_mcp1_C3','dt_ecal_mcp2_C3','dt_mcp2_mcp1_C3']\n",
    "#for num,name in enumerate(inputs_names):\n",
    "#    for i in range(0,10):\n",
    "#        inputs[num][i] = list(df[name])[i]\n"
   ]
  },
  {
   "cell_type": "code",
   "execution_count": null,
   "metadata": {},
   "outputs": [],
   "source": []
  },
  {
   "cell_type": "code",
   "execution_count": null,
   "metadata": {},
   "outputs": [],
   "source": [
    "#time_minimizer = ROOT.LLminimizer(inputs[0],inputs[1],inputs[2],inputs[3],inputs[4],crystal,energy)\n",
    "from array import array\n",
    "time_minimizer = ROOT.LLminimizer(df['fit_ampl_MCP1'].shape[0],array('d',list(df['fit_ampl_MCP1'])),array('d',list(df['fit_ampl_MCP2'])),array('d',list(df['dt_ecal_mcp1_C3'])),array('d',list(df['dt_ecal_mcp2_C3'])),array('d',list(df['dt_mcp2_mcp1_C3'])),crystal,energy)\n"
   ]
  },
  {
   "cell_type": "code",
   "execution_count": 12,
   "metadata": {},
   "outputs": [],
   "source": [
    "#from ROOT import std\n",
    "#b = std.vector('double')(10)\n",
    "#time_minimizer = ROOT.LLminimizer(b,b,b,b,b,crystal,energy)\n",
    "\n",
    "#v = std.vector(ROOT.Double)()\n",
    "#v += [5,6,7,8]"
   ]
  },
  {
   "cell_type": "code",
   "execution_count": null,
   "metadata": {},
   "outputs": [],
   "source": [
    "time_minimizer.MinimizeNLL()"
   ]
  },
  {
   "cell_type": "code",
   "execution_count": 10,
   "metadata": {},
   "outputs": [
    {
     "name": "stdout",
     "output_type": "stream",
     "text": [
      "5.0\n",
      "20.0\n"
     ]
    }
   ],
   "source": [
    "print  time_minimizer.m_Cm_\n",
    "print time_minimizer.m_a1_\n",
    "#time_minimizer.m_Cm_e_"
   ]
  },
  {
   "cell_type": "code",
   "execution_count": null,
   "metadata": {},
   "outputs": [],
   "source": []
  },
  {
   "cell_type": "code",
   "execution_count": 27,
   "metadata": {},
   "outputs": [
    {
     "name": "stdout",
     "output_type": "stream",
     "text": [
      "{ 1886.4337, 778.20728, 504.99210, 1171.0276, 814.35138, 1022.1780, 274.83176, 662.47040, 1103.1155, 294.32684 }\n",
      "{ 1886.4337, 778.20728, 504.99210, 1171.0276, 814.35138, 1022.1780, 274.83176, 662.47040, 1103.1155, 294.32684 }\n",
      "{ 1886.4337, 778.20728, 504.99210, 1171.0276, 814.35138, 1022.1780, 274.83176, 662.47040, 1103.1155, 294.32684 }\n",
      "{ 1886.4337, 778.20728, 504.99210, 1171.0276, 814.35138, 1022.1780, 274.83176, 662.47040, 1103.1155, 294.32684 }\n",
      "{ 1886.4337, 778.20728, 504.99210, 1171.0276, 814.35138, 1022.1780, 274.83176, 662.47040, 1103.1155, 294.32684 }\n"
     ]
    }
   ],
   "source": [
    "for input in inputs:\n",
    "    print input"
   ]
  },
  {
   "cell_type": "code",
   "execution_count": 20,
   "metadata": {},
   "outputs": [
    {
     "data": {
      "text/plain": [
       "1322"
      ]
     },
     "execution_count": 20,
     "metadata": {},
     "output_type": "execute_result"
    }
   ],
   "source": [
    "len(df['fit_ampl_MCP1'])"
   ]
  },
  {
   "cell_type": "code",
   "execution_count": 9,
   "metadata": {
    "scrolled": false
   },
   "outputs": [
    {
     "data": {
      "image/png": "[encoded data removed]",
      "text/plain": [
       "<Figure size 432x288 with 1 Axes>"
      ]
     },
     "metadata": {
      "needs_background": "light"
     },
     "output_type": "display_data"
    },
    {
     "data": {
      "image/png": "[encoded data removed]",
      "text/plain": [
       "<Figure size 432x288 with 1 Axes>"
      ]
     },
     "metadata": {
      "needs_background": "light"
     },
     "output_type": "display_data"
    },
    {
     "data": {
      "image/png": "[encoded data removed]",
      "text/plain": [
       "<Figure size 432x288 with 1 Axes>"
      ]
     },
     "metadata": {
      "needs_background": "light"
     },
     "output_type": "display_data"
    },
    {
     "data": {
      "image/png": "[encoded data removed]",
      "text/plain": [
       "<Figure size 432x288 with 1 Axes>"
      ]
     },
     "metadata": {
      "needs_background": "light"
     },
     "output_type": "display_data"
    },
    {
     "data": {
      "image/png": "[encoded data removed]",
      "text/plain": [
       "<Figure size 432x288 with 1 Axes>"
      ]
     },
     "metadata": {
      "needs_background": "light"
     },
     "output_type": "display_data"
    },
    {
     "data": {
      "image/png": "[encoded data removed]",
      "text/plain": [
       "<Figure size 432x288 with 1 Axes>"
      ]
     },
     "metadata": {
      "needs_background": "light"
     },
     "output_type": "display_data"
    },
    {
     "data": {
      "image/png": "[encoded data removed]",
      "text/plain": [
       "<Figure size 432x288 with 1 Axes>"
      ]
     },
     "metadata": {
      "needs_background": "light"
     },
     "output_type": "display_data"
    },
    {
     "data": {
      "image/png": "[encoded data removed]",
      "text/plain": [
       "<Figure size 432x288 with 1 Axes>"
      ]
     },
     "metadata": {
      "needs_background": "light"
     },
     "output_type": "display_data"
    }
   ],
   "source": [
    "df['fit_ampl_MCP1'].hist(bins=50)\n",
    "plt.show()\n",
    "df['fit_ampl_MCP2'].hist(bins=50)\n",
    "plt.show()\n",
    "plt.hist(list(df['dt_ecal_mcp1_C3']),bins=50,range=[2400,2600])\n",
    "plt.show()\n",
    "df['dt_ecal_mcp2_C3'].hist(bins=50)\n",
    "plt.show()\n",
    "df['dt_mcp2_mcp1_C3'].hist(bins=50)\n",
    "plt.show()\n",
    "df['fit_time_MCP2'].hist(bins=50)\n",
    "plt.show()\n",
    "df['fit_time_MCP1'].hist(bins=50)\n",
    "plt.show()\n",
    "plt.hist(list(df['dt_mcp2_mcp1_C3']),bins=50,range=[-5500,-4500])\n",
    "plt.show()\n",
    "\n"
   ]
  },
  {
   "cell_type": "code",
   "execution_count": 30,
   "metadata": {},
   "outputs": [
    {
     "data": {
      "text/plain": [
       "6517"
      ]
     },
     "execution_count": 30,
     "metadata": {},
     "output_type": "execute_result"
    }
   ],
   "source": [
    "df[df['fit_time_MCP1'].gt(40)].index[0]"
   ]
  },
  {
   "cell_type": "code",
   "execution_count": 35,
   "metadata": {},
   "outputs": [
    {
     "data": {
      "text/plain": [
       "(22122, 11)"
      ]
     },
     "execution_count": 35,
     "metadata": {},
     "output_type": "execute_result"
    }
   ],
   "source": [
    "df.shape"
   ]
  },
  {
   "cell_type": "code",
   "execution_count": 40,
   "metadata": {},
   "outputs": [
    {
     "data": {
      "text/plain": [
       "-4869.5831298828125"
      ]
     },
     "execution_count": 40,
     "metadata": {},
     "output_type": "execute_result"
    }
   ],
   "source": [
    "df['dt_mcp2_mcp1_C3'][4]"
   ]
  },
  {
   "cell_type": "code",
   "execution_count": null,
   "metadata": {},
   "outputs": [],
   "source": []
  }
 ],
 "metadata": {
  "kernelspec": {
   "display_name": "Python 2",
   "language": "python",
   "name": "python2"
  },
  "language_info": {
   "codemirror_mode": {
    "name": "ipython",
    "version": 2
   },
   "file_extension": ".py",
   "mimetype": "text/x-python",
   "name": "python",
   "nbconvert_exporter": "python",
   "pygments_lexer": "ipython2",
   "version": "2.7.16"
  }
 },
 "nbformat": 4,
 "nbformat_minor": 2
}
