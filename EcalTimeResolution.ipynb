{
 "cells": [
  {
   "cell_type": "code",
   "execution_count": 1,
   "metadata": {},
   "outputs": [
    {
     "name": "stdout",
     "output_type": "stream",
     "text": [
      "Welcome to JupyROOT 6.18/00\n"
     ]
    }
   ],
   "source": [
    "import ROOT\n",
    "from ROOT import RooRealVar,RooCBShape,RooDataHist,RooArgList,RooFit\n",
    "from ROOT import gROOT,gStyle,gPad\n",
    "import csv\n",
    "import json\n",
    "import array as array\n",
    "import matplotlib\n",
    "import matplotlib.pyplot as plt\n",
    "from scipy.optimize import curve_fit\n",
    "import os\n",
    "\n",
    "import numpy as np\n",
    "\n",
    "\n",
    "import sys\n",
    "sys.path.insert(0, 'utils/')\n",
    "import CBfunction as CB\n",
    "reload(CB)\n",
    "import CrystalMap as crystMap\n",
    "reload(crystMap)\n",
    "from uncertainties import unumpy\n",
    "from uncertainties import ufloat"
   ]
  },
  {
   "cell_type": "code",
   "execution_count": 2,
   "metadata": {},
   "outputs": [],
   "source": [
    "dir_str = '/02_08_2019/'\n",
    "plot_folder = 'plots/'+dir_str\n",
    "output_folder = 'output/'+dir_str\n",
    "if not os.path.exists(plot_folder):\n",
    "    os.makedirs(plot_folder)\n",
    "if not os.path.exists(output_folder):\n",
    "    os.makedirs(output_folder)"
   ]
  },
  {
   "cell_type": "code",
   "execution_count": 3,
   "metadata": {},
   "outputs": [],
   "source": [
    "dict_C3_energy_scan = {}\n",
    "##Now add runs for C2,C3,C4 \n",
    "reader = csv.reader(open('data/energyscans19C.csv', 'r'))\n",
    "for row in reader:\n",
    "    run,energy,crystal,_,_,_ = row\n",
    "    if crystal=='C3' :\n",
    "        if energy in dict_C3_energy_scan.keys() :\n",
    "            dict_C3_energy_scan[energy].append(run)\n",
    "        else : \n",
    "            dict_C3_energy_scan[energy] = []\n",
    "            dict_C3_energy_scan[energy].append(run)        \n",
    "\n",
    "            \n",
    "## Read crystal centers prepared by Simone \n",
    "reader = csv.reader(open('data/crystalscenters.csv', 'r'))\n",
    "dict_crystal_centers={}\n",
    "for row in reader:\n",
    "    crystal,xpos,ypos = row\n",
    "    if crystal!='Crystal' :\n",
    "        dict_crystal_centers[crystal] = [int(xpos),int(ypos)]\n",
    "        \n",
    "dict_crystal_centers['C3_3x3'] =[4,5]       \n",
    "        \n",
    "naming = []\n",
    "for i in range(5,0,-1):\n",
    "    naming.append('A%d'%i)\n",
    "    naming.append('B%d'%i)\n",
    "    naming.append('C%d'%i)\n",
    "    naming.append('D%d'%i)\n",
    "    naming.append('E%d'%i)\n",
    "missing = 'A5,A4,E5,E4'.split(',')\n",
    "working = [item for item in naming]\n",
    "for item in missing:\n",
    "    working.remove(item)\n",
    "    \n",
    "matrix_3 = 'B4,C4,D4,B3,C3,D3,B2,C2,D2'.split(',')\n",
    "matrix_5 = 'B5,C5,D5,B4,C4,D4,B3,C3,D3,B2,C2,D2,A1,B1,C1,D1,E1'.split(',')            "
   ]
  },
  {
   "cell_type": "code",
   "execution_count": 4,
   "metadata": {},
   "outputs": [],
   "source": [
    "outstr = 'time_v7'\n",
    "#trees_path = '/eos/cms/store/group/dpg_ecal/comm_ecal/upgrade/testbeam/ECALTB_H4_Oct2018/ntuples_v5/'\n",
    "trees_path = '/eos/user/n/nchernya/ntuples/ECAL/Upgrade/ECAL_TB_Oct2018/ntuples_v7/'"
   ]
  },
  {
   "cell_type": "code",
   "execution_count": 28,
   "metadata": {},
   "outputs": [
    {
     "name": "stdout",
     "output_type": "stream",
     "text": [
      "243.48\n",
      "13360\n"
     ]
    },
    {
     "name": "stderr",
     "output_type": "stream",
     "text": [
      "Warning in <TCanvas::Constructor>: Deleting canvas with same name: c\n",
      "Warning in <TROOT::Append>: Replacing existing TH1: h (Potential memory leak).\n"
     ]
    },
    {
     "data": {
      "image/png": "[encoded data removed]",
      "text/plain": [
       "<IPython.core.display.Image object>"
      ]
     },
     "metadata": {},
     "output_type": "display_data"
    }
   ],
   "source": [
    "reload(crystMap)\n",
    "\n",
    "canvas_num=0\n",
    "c = ROOT.TCanvas(\"c\",\"c\",500,500)\n",
    "crystal='C3'\n",
    "energies = sorted([float(item) for item in dict_C3_energy_scan.keys()])\n",
    "energy  = str(energies[-1])\n",
    "print energy\n",
    "run = dict_C3_energy_scan[energy][0]\n",
    "tree = ROOT.TChain(\"h4\")\n",
    "tree.Add(\"%s/ECAL_H4_October2018_%s.root\"%(trees_path,run))\n",
    "print run\n",
    "selection = 'fit_ampl[MCP1]>100 && fit_ampl[%s]>1000 && n_tracks==1 && fabs(X-(%.2f))<4 && fabs(Y-(%.2f))<4'%(crystal,dict_crystal_centers[crystal][0],dict_crystal_centers[crystal][1])\n",
    "hist = ROOT.TH1F('h','h',100,2000,3000)\n",
    "tree.Draw(\"((fit_time[%s]-fit_time[MCP1]+fit_time[VFE_CLK])-int((fit_time[%s]-fit_time[MCP1]+fit_time[VFE_CLK])/6.238)*6.238)*1000>>h\"%(crystal,crystal),selection)\n",
    "hist.Draw(\"HIST\")\n",
    "c.Draw()"
   ]
  },
  {
   "cell_type": "code",
   "execution_count": null,
   "metadata": {},
   "outputs": [],
   "source": []
  },
  {
   "cell_type": "markdown",
   "metadata": {},
   "source": [
    "# Prepare time data for the minimization"
   ]
  },
  {
   "cell_type": "code",
   "execution_count": 5,
   "metadata": {},
   "outputs": [
    {
     "name": "stdout",
     "output_type": "stream",
     "text": [
      "243.48\n"
     ]
    },
    {
     "name": "stderr",
     "output_type": "stream",
     "text": [
      "Warning in <TClass::Init>: no dictionary for class PositionMeasurement is available\n",
      "Warning in <TClass::Init>: no dictionary for class TrackPar is available\n",
      "Warning in <TClass::Init>: no dictionary for class Tracking::TelescopeLayer is available\n",
      "Warning in <TClass::Init>: no dictionary for class Tracking::TelescopeLayout is available\n",
      "Warning in <TClass::Init>: no dictionary for class CfgManager is available\n"
     ]
    }
   ],
   "source": [
    "import pandas as pd\n",
    "\n",
    "crystal='C3'\n",
    "energies = sorted([float(item) for item in dict_C3_energy_scan.keys()])\n",
    "energy  = str(energies[-1])\n",
    "print energy\n",
    "run = dict_C3_energy_scan[energy][0]\n",
    "tree = ROOT.TChain(\"h4\")\n",
    "tree.Add(\"%s/ECAL_H4_October2018_%s.root\"%(trees_path,run))\n",
    "selection = 'fit_ampl[MCP1]>100 && fit_ampl[%s]>1000 && n_tracks==1 && fabs(X-(%.2f))<4 && fabs(Y-(%.2f))<4'%(crystal,dict_crystal_centers[crystal][0],dict_crystal_centers[crystal][1])\n",
    "\n",
    "pos_cut = 4\n",
    "data = []\n",
    "for evt in tree:\n",
    "    if evt.fit_ampl[evt.MCP1]>100 and evt.fit_ampl[evt.MCP2]>1000 and evt.n_tracks==1 and abs(evt.X[0]-dict_crystal_centers[crystal][0])<pos_cut and abs(evt.Y[0]-dict_crystal_centers[crystal][1])<pos_cut : \n",
    "        evt_dict = {}\n",
    "        evt_dict['Energy'] = evt.Energy\n",
    "        evt_dict['fit_ampl_MCP1'] = evt.fit_ampl[evt.MCP1]\n",
    "        evt_dict['fit_ampl_MCP2'] = evt.fit_ampl[evt.MCP2]\n",
    "        evt_dict['fit_time_MCP1'] = evt.fit_time[evt.MCP1]\n",
    "        evt_dict['fit_time_MCP2'] = evt.fit_time[evt.MCP2]\n",
    "        for xstal in ['C3']:\n",
    "            evt_dict['fit_ampl_'+xstal] = evt.fit_ampl[getattr(evt, xstal)]\n",
    "            evt_dict['noise_'+xstal] = evt.b_rms[getattr(evt, xstal)]\n",
    "            evt_dict['fit_time_'+xstal] = evt.fit_time[getattr(evt, xstal)]\n",
    "            evt_dict['dt_ecal_mcp1_'+xstal] = ((evt.fit_time[getattr(evt, xstal)]-evt.fit_time[evt.MCP1]+evt.fit_time[evt.VFE_CLK])-int((evt.fit_time[getattr(evt, xstal)]-evt.fit_time[evt.MCP1]+evt.fit_time[evt.VFE_CLK])/6.238)*6.238)*1000\n",
    "            evt_dict['dt_ecal_mcp2_'+xstal] = ((evt.fit_time[getattr(evt, xstal)]-evt.fit_time[evt.MCP2]+evt.fit_time[evt.VFE_CLK])-int((evt.fit_time[getattr(evt, xstal)]-evt.fit_time[evt.MCP2]+evt.fit_time[evt.VFE_CLK])/6.238)*6.238)*1000\n",
    "            evt_dict['dt_mcp2_mcp1_'+xstal] = ((evt.fit_time[evt.MCP2]-evt.fit_time[evt.MCP1]+evt.fit_time[evt.VFE_CLK])-int((evt.fit_time[evt.MCP2]-evt.fit_time[evt.MCP1]+evt.fit_time[evt.VFE_CLK])/6.238)*6.238)*1000\n",
    "        data.append(evt_dict)\n",
    "\n",
    "df = pd.DataFrame(data)    \n"
   ]
  },
  {
   "cell_type": "code",
   "execution_count": 12,
   "metadata": {},
   "outputs": [
    {
     "data": {
      "text/plain": [
       "array([2511.18978882, 2485.65611267, 2541.64044189, ..., 2478.13439941,\n",
       "       2489.04252625, 2525.52056885])"
      ]
     },
     "execution_count": 12,
     "metadata": {},
     "output_type": "execute_result"
    }
   ],
   "source": [
    "np.array(list(df['dt_ecal_mcp1_C3']))"
   ]
  },
  {
   "cell_type": "code",
   "execution_count": 6,
   "metadata": {},
   "outputs": [
    {
     "data": {
      "text/plain": [
       "0"
      ]
     },
     "execution_count": 6,
     "metadata": {},
     "output_type": "execute_result"
    }
   ],
   "source": [
    "gROOT.LoadMacro('utils/LLminimizer/LLminimizer.cc')\n"
   ]
  },
  {
   "cell_type": "code",
   "execution_count": 38,
   "metadata": {},
   "outputs": [
    {
     "ename": "TypeError",
     "evalue": "none of the 3 overloaded methods succeeded. Full details:\n  LLminimizer::LLminimizer(vector<double> mcp1_ampl, vector<double> mcp2_ampl, vector<double> dt_ecal_mcp1, vector<double> dt_ecal_mcp2, vector<double> dt_mcp2_mcp1, TString crystal, TString energy) =>\n    could not convert argument 1\n  LLminimizer::LLminimizer(const LLminimizer&) =>\n    takes at most 1 arguments (7 given)\n  LLminimizer::LLminimizer(LLminimizer&&) =>\n    takes at most 1 arguments (7 given)",
     "output_type": "error",
     "traceback": [
      "\u001b[0;31m\u001b[0m",
      "\u001b[0;31mTypeError\u001b[0mTraceback (most recent call last)",
      "\u001b[0;32m<ipython-input-38-c8ba62f00abb>\u001b[0m in \u001b[0;36m<module>\u001b[0;34m()\u001b[0m\n\u001b[1;32m      2\u001b[0m time_minimizer = ROOT.LLminimizer(array('d',list(df['fit_ampl_MCP1'])),array('d',list(df['fit_ampl_MCP2'])), \n\u001b[1;32m      3\u001b[0m                            \u001b[0marray\u001b[0m\u001b[0;34m(\u001b[0m\u001b[0;34m'd'\u001b[0m\u001b[0;34m,\u001b[0m\u001b[0mlist\u001b[0m\u001b[0;34m(\u001b[0m\u001b[0mdf\u001b[0m\u001b[0;34m[\u001b[0m\u001b[0;34m'dt_ecal_mcp1_C3'\u001b[0m\u001b[0;34m]\u001b[0m\u001b[0;34m)\u001b[0m\u001b[0;34m)\u001b[0m\u001b[0;34m,\u001b[0m\u001b[0marray\u001b[0m\u001b[0;34m(\u001b[0m\u001b[0;34m'd'\u001b[0m\u001b[0;34m,\u001b[0m\u001b[0mlist\u001b[0m\u001b[0;34m(\u001b[0m\u001b[0mdf\u001b[0m\u001b[0;34m[\u001b[0m\u001b[0;34m'dt_ecal_mcp2_C3'\u001b[0m\u001b[0;34m]\u001b[0m\u001b[0;34m)\u001b[0m\u001b[0;34m)\u001b[0m\u001b[0;34m,\u001b[0m\u001b[0;34m\u001b[0m\u001b[0m\n\u001b[0;32m----> 4\u001b[0;31m                            array('d',list(df['dt_mcp2_mcp1_C3'])),crystal,energy)\n\u001b[0m",
      "\u001b[0;31mTypeError\u001b[0m: none of the 3 overloaded methods succeeded. Full details:\n  LLminimizer::LLminimizer(vector<double> mcp1_ampl, vector<double> mcp2_ampl, vector<double> dt_ecal_mcp1, vector<double> dt_ecal_mcp2, vector<double> dt_mcp2_mcp1, TString crystal, TString energy) =>\n    could not convert argument 1\n  LLminimizer::LLminimizer(const LLminimizer&) =>\n    takes at most 1 arguments (7 given)\n  LLminimizer::LLminimizer(LLminimizer&&) =>\n    takes at most 1 arguments (7 given)"
     ]
    }
   ],
   "source": [
    "from array import array\n",
    "time_minimizer = ROOT.LLminimizer(array('d',list(df['fit_ampl_MCP1'])),array('d',list(df['fit_ampl_MCP2'])), \n",
    "                           array('d',list(df['dt_ecal_mcp1_C3'])),array('d',list(df['dt_ecal_mcp2_C3'])),\n",
    "                           array('d',list(df['dt_mcp2_mcp1_C3'])),crystal,energy)\n"
   ]
  },
  {
   "cell_type": "code",
   "execution_count": 31,
   "metadata": {},
   "outputs": [
    {
     "data": {
      "text/plain": [
       "0"
      ]
     },
     "execution_count": 31,
     "metadata": {},
     "output_type": "execute_result"
    }
   ],
   "source": [
    "#test=array('d',list(df['fit_ampl_MCP1']))\n"
   ]
  },
  {
   "cell_type": "code",
   "execution_count": 9,
   "metadata": {},
   "outputs": [],
   "source": [
    "\n",
    "from ROOT import std\n",
    "b = std.vector('double')(10)\n",
    "time_minimizer = ROOT.LLminimizer(b,b,b,b,b,crystal,energy)"
   ]
  },
  {
   "cell_type": "code",
   "execution_count": 10,
   "metadata": {},
   "outputs": [
    {
     "data": {
      "text/plain": [
       "<ROOT.LLminimizer object at 0xfc17400>"
      ]
     },
     "execution_count": 10,
     "metadata": {},
     "output_type": "execute_result"
    }
   ],
   "source": [
    "time_minimizer"
   ]
  },
  {
   "cell_type": "code",
   "execution_count": 63,
   "metadata": {},
   "outputs": [],
   "source": [
    "b = std.vector('double')(10)"
   ]
  },
  {
   "cell_type": "code",
   "execution_count": 62,
   "metadata": {},
   "outputs": [
    {
     "ename": "SystemError",
     "evalue": "none of the 2 overloaded methods succeeded. Full details:\n  void vector<double>::push_back(const double& __x) =>\n    problem in C++; program state has been reset\n  void vector<double>::push_back(double&& __x) =>\n    could not convert argument 1 (this method can not (yet) be called)",
     "output_type": "error",
     "traceback": [
      "\u001b[0;31m\u001b[0m",
      "\u001b[0;31mSystemError\u001b[0mTraceback (most recent call last)",
      "\u001b[0;32m<ipython-input-62-a2aac416c5f5>\u001b[0m in \u001b[0;36m<module>\u001b[0;34m()\u001b[0m\n\u001b[1;32m      1\u001b[0m \u001b[0mv\u001b[0m \u001b[0;34m=\u001b[0m \u001b[0mstd\u001b[0m\u001b[0;34m.\u001b[0m\u001b[0mvector\u001b[0m\u001b[0;34m(\u001b[0m\u001b[0mROOT\u001b[0m\u001b[0;34m.\u001b[0m\u001b[0mDouble\u001b[0m\u001b[0;34m)\u001b[0m\u001b[0;34m(\u001b[0m\u001b[0;34m)\u001b[0m\u001b[0;34m\u001b[0m\u001b[0m\n\u001b[0;32m----> 2\u001b[0;31m \u001b[0mv\u001b[0m \u001b[0;34m+=\u001b[0m \u001b[0;34m[\u001b[0m\u001b[0;36m5\u001b[0m\u001b[0;34m,\u001b[0m\u001b[0;36m6\u001b[0m\u001b[0;34m,\u001b[0m\u001b[0;36m7\u001b[0m\u001b[0;34m,\u001b[0m\u001b[0;36m8\u001b[0m\u001b[0;34m]\u001b[0m\u001b[0;34m\u001b[0m\u001b[0m\n\u001b[0m",
      "\u001b[0;32m/cvmfs/sft.cern.ch/lcg/views/LCG_96/x86_64-centos7-gcc8-opt/lib/cppyy.pyc\u001b[0m in \u001b[0;36miadd\u001b[0;34m(self, ll)\u001b[0m\n\u001b[1;32m    133\u001b[0m          \u001b[0;32mif\u001b[0m \u001b[0;34m'push_back'\u001b[0m \u001b[0;32min\u001b[0m \u001b[0mresult\u001b[0m\u001b[0;34m.\u001b[0m\u001b[0m__dict__\u001b[0m\u001b[0;34m:\u001b[0m\u001b[0;34m\u001b[0m\u001b[0m\n\u001b[1;32m    134\u001b[0m             \u001b[0;32mdef\u001b[0m \u001b[0miadd\u001b[0m\u001b[0;34m(\u001b[0m \u001b[0mself\u001b[0m\u001b[0;34m,\u001b[0m \u001b[0mll\u001b[0m \u001b[0;34m)\u001b[0m\u001b[0;34m:\u001b[0m\u001b[0;34m\u001b[0m\u001b[0m\n\u001b[0;32m--> 135\u001b[0;31m                \u001b[0;34m[\u001b[0m \u001b[0mself\u001b[0m\u001b[0;34m.\u001b[0m\u001b[0mpush_back\u001b[0m\u001b[0;34m(\u001b[0m\u001b[0mx\u001b[0m\u001b[0;34m)\u001b[0m \u001b[0;32mfor\u001b[0m \u001b[0mx\u001b[0m \u001b[0;32min\u001b[0m \u001b[0mll\u001b[0m \u001b[0;34m]\u001b[0m\u001b[0;34m\u001b[0m\u001b[0m\n\u001b[0m\u001b[1;32m    136\u001b[0m                \u001b[0;32mreturn\u001b[0m \u001b[0mself\u001b[0m\u001b[0;34m\u001b[0m\u001b[0m\n\u001b[1;32m    137\u001b[0m \u001b[0;34m\u001b[0m\u001b[0m\n",
      "\u001b[0;31mSystemError\u001b[0m: none of the 2 overloaded methods succeeded. Full details:\n  void vector<double>::push_back(const double& __x) =>\n    problem in C++; program state has been reset\n  void vector<double>::push_back(double&& __x) =>\n    could not convert argument 1 (this method can not (yet) be called)"
     ]
    },
    {
     "name": "stderr",
     "output_type": "stream",
     "text": [
      "IncrementalExecutor::executeFunction: symbol '_ZSt8_DestroyIPddEvT_S1_RSaIT0_E' unresolved while linking symbol '__cf_32'!\n",
      "You are probably missing the definition of void std::_Destroy<double*, double>(double*, double*, std::allocator<double>&)\n",
      "Maybe you need to load the corresponding shared library?\n",
      "Error in <TClingCallFunc::make_wrapper>: Failed to compile\n",
      "  ==== SOURCE BEGIN ====\n",
      "#pragma clang diagnostic push\n",
      "#pragma clang diagnostic ignored \"-Wformat-security\"\n",
      "__attribute__((used)) extern \"C\" void __cf_32(void* obj, int nargs, void** args, void* ret)\n",
      "{\n",
      "   ((vector<double>*)obj)->push_back((const double&)*(const double*)args[0]);\n",
      "   return;\n",
      "}\n",
      "#pragma clang diagnostic pop\n",
      "  ==== SOURCE END ====\n",
      "\n",
      " *** Break *** segmentation violation\n"
     ]
    }
   ],
   "source": [
    "v = std.vector(ROOT.Double)()\n",
    "v += [5,6,7,8]"
   ]
  },
  {
   "cell_type": "code",
   "execution_count": 58,
   "metadata": {},
   "outputs": [
    {
     "name": "stdout",
     "output_type": "stream",
     "text": [
      "{ 1.2000000, 0.0000000, 0.0000000, 0.0000000, 0.0000000, 0.0000000, 0.0000000, 0.0000000, 0.0000000, 0.0000000 }\n"
     ]
    }
   ],
   "source": [
    "print b"
   ]
  },
  {
   "cell_type": "code",
   "execution_count": null,
   "metadata": {},
   "outputs": [],
   "source": []
  }
 ],
 "metadata": {
  "kernelspec": {
   "display_name": "Python 2",
   "language": "python",
   "name": "python2"
  },
  "language_info": {
   "codemirror_mode": {
    "name": "ipython",
    "version": 2
   },
   "file_extension": ".py",
   "mimetype": "text/x-python",
   "name": "python",
   "nbconvert_exporter": "python",
   "pygments_lexer": "ipython2",
   "version": "2.7.16"
  }
 },
 "nbformat": 4,
 "nbformat_minor": 2
}
