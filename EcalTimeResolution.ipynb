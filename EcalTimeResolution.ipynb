{
 "cells": [
  {
   "cell_type": "code",
   "execution_count": 1,
   "metadata": {},
   "outputs": [
    {
     "name": "stdout",
     "output_type": "stream",
     "text": [
      "Welcome to JupyROOT 6.18/00\n"
     ]
    }
   ],
   "source": [
    "import ROOT\n",
    "from ROOT import RooRealVar,RooCBShape,RooDataHist,RooArgList,RooFit\n",
    "from ROOT import gROOT,gStyle,gPad\n",
    "from ROOT import std\n",
    "import csv\n",
    "import json\n",
    "from array import array\n",
    "import matplotlib\n",
    "import matplotlib.pyplot as plt\n",
    "from scipy.optimize import curve_fit\n",
    "import os\n",
    "\n",
    "import numpy as np\n",
    "\n",
    "\n",
    "import sys\n",
    "sys.path.insert(0, 'utils/')\n",
    "import CBfunction as CB\n",
    "reload(CB)\n",
    "import CrystalMap as crystMap\n",
    "reload(crystMap)\n",
    "from uncertainties import unumpy\n",
    "from uncertainties import ufloat\n",
    "import pandas as pd"
   ]
  },
  {
   "cell_type": "code",
   "execution_count": 5,
   "metadata": {},
   "outputs": [],
   "source": [
    "outstr = '100_500ps_selection'\n",
    "#trees_path = '/eos/cms/store/group/dpg_ecal/comm_ecal/upgrade/testbeam/ECALTB_H4_Oct2018/ntuples_v5/'\n",
    "trees_path = '/eos/user/n/nchernya/ntuples/ECAL/Upgrade/ECAL_TB_Oct2018/ntuples_v7/'\n",
    "\n",
    "dir_str = '/05_08_2019/'\n",
    "plot_folder = 'plots/'+dir_str\n",
    "output_folder = 'output/'+dir_str\n",
    "if not os.path.exists(plot_folder):\n",
    "    os.makedirs(plot_folder)\n",
    "if not os.path.exists(output_folder):\n",
    "    os.makedirs(output_folder)"
   ]
  },
  {
   "cell_type": "code",
   "execution_count": 3,
   "metadata": {},
   "outputs": [],
   "source": [
    "dict_C3_energy_scan = {}\n",
    "##Now add runs for C2,C3,C4 \n",
    "reader = csv.reader(open('data/energyscans19C.csv', 'r'))\n",
    "for row in reader:\n",
    "    run,energy,crystal,_,_,_ = row\n",
    "    if crystal=='C3' :\n",
    "        if energy in dict_C3_energy_scan.keys() :\n",
    "            dict_C3_energy_scan[energy].append(run)\n",
    "        else : \n",
    "            dict_C3_energy_scan[energy] = []\n",
    "            dict_C3_energy_scan[energy].append(run)        \n",
    "\n",
    "            \n",
    "## Read crystal centers prepared by Simone \n",
    "reader = csv.reader(open('data/crystalscenters.csv', 'r'))\n",
    "dict_crystal_centers={}\n",
    "for row in reader:\n",
    "    crystal,xpos,ypos = row\n",
    "    if crystal!='Crystal' :\n",
    "        dict_crystal_centers[crystal] = [int(xpos),int(ypos)]\n",
    "        \n",
    "dict_crystal_centers['C3_3x3'] =[4,5]       \n",
    "        \n",
    "naming = []\n",
    "for i in range(5,0,-1):\n",
    "    naming.append('A%d'%i)\n",
    "    naming.append('B%d'%i)\n",
    "    naming.append('C%d'%i)\n",
    "    naming.append('D%d'%i)\n",
    "    naming.append('E%d'%i)\n",
    "missing = 'A5,A4,E5,E4'.split(',')\n",
    "working = [item for item in naming]\n",
    "for item in missing:\n",
    "    working.remove(item)\n",
    "    \n",
    "matrix_3 = 'B4,C4,D4,B3,C3,D3,B2,C2,D2'.split(',')\n",
    "matrix_5 = 'B5,C5,D5,B4,C4,D4,B3,C3,D3,B2,C2,D2,A1,B1,C1,D1,E1'.split(',')            "
   ]
  },
  {
   "cell_type": "markdown",
   "metadata": {},
   "source": [
    "# Prepare time data for the minimization"
   ]
  },
  {
   "cell_type": "code",
   "execution_count": 6,
   "metadata": {},
   "outputs": [],
   "source": [
    "crystal='C3'\n",
    "energies = sorted([float(item) for item in dict_C3_energy_scan.keys()])\n",
    "energies = [str(item) for item in energies]"
   ]
  },
  {
   "cell_type": "code",
   "execution_count": 10,
   "metadata": {},
   "outputs": [
    {
     "name": "stderr",
     "output_type": "stream",
     "text": [
      "Warning in <TClass::Init>: no dictionary for class PositionMeasurement is available\n",
      "Warning in <TClass::Init>: no dictionary for class TrackPar is available\n",
      "Warning in <TClass::Init>: no dictionary for class Tracking::TelescopeLayer is available\n",
      "Warning in <TClass::Init>: no dictionary for class Tracking::TelescopeLayout is available\n",
      "Warning in <TClass::Init>: no dictionary for class CfgManager is available\n"
     ]
    }
   ],
   "source": [
    "dict_df_energy = {}\n",
    "\n",
    "for energy in energies:\n",
    "    round_energy = round(float(energy),-1)\n",
    "    if round_energy ==240 : round_energy = 250\n",
    "        \n",
    "    runs = dict_C3_energy_scan[energy]\n",
    "    tree = ROOT.TChain(\"h4\")\n",
    "    for run in runs:\n",
    "        tree.Add(\"%s/ECAL_H4_October2018_%s.root\"%(trees_path,run))\n",
    "        pos_cut = 4\n",
    "    data = []\n",
    "    for evt in tree:\n",
    "        if evt.fit_ampl[getattr(evt, crystal)]>1000 and evt.fit_ampl[evt.MCP1]>100 and evt.fit_ampl[evt.MCP2]>100 and evt.n_tracks==1 and abs(evt.X[0]-dict_crystal_centers[crystal][0])<pos_cut and abs(evt.Y[0]-dict_crystal_centers[crystal][1])<pos_cut : \n",
    "            evt_dict = {}\n",
    "            evt_dict['Energy'] = evt.Energy\n",
    "            evt_dict['fit_ampl_MCP1'] = evt.fit_ampl[evt.MCP1]/evt.b_rms[evt.MCP1]\n",
    "            evt_dict['fit_ampl_MCP2'] = evt.fit_ampl[evt.MCP2]/evt.b_rms[evt.MCP2]\n",
    "            evt_dict['fit_time_MCP1'] = evt.fit_time[evt.MCP1]\n",
    "            evt_dict['fit_time_MCP2'] = evt.fit_time[evt.MCP2]\n",
    "            for xstal in ['C3']:\n",
    "                evt_dict['fit_ampl_'+xstal] = evt.fit_ampl[getattr(evt, xstal)]\n",
    "                evt_dict['noise_'+xstal] = evt.b_rms[getattr(evt, xstal)]\n",
    "                evt_dict['fit_time_'+xstal] = evt.fit_time[getattr(evt, xstal)]\n",
    "                evt_dict['fit_terr_'+xstal] = evt.fit_terr[getattr(evt, xstal)]\n",
    "                evt_dict['dt_ecal_mcp1_'+xstal] = ((evt.fit_time[getattr(evt, xstal)]-evt.fit_time[evt.MCP1]+evt.fit_time[evt.VFE_CLK])-int((evt.fit_time[getattr(evt, xstal)]-evt.fit_time[evt.MCP1]+evt.fit_time[evt.VFE_CLK])/6.238)*6.238)*1000\n",
    "                evt_dict['dt_ecal_mcp2_'+xstal] = ((evt.fit_time[getattr(evt, xstal)]-evt.fit_time[evt.MCP2]+evt.fit_time[evt.VFE_CLK])-int((evt.fit_time[getattr(evt, xstal)]-evt.fit_time[evt.MCP2]+evt.fit_time[evt.VFE_CLK])/6.238)*6.238)*1000\n",
    "                evt_dict['dt_mcp2_mcp1_'+xstal] = (evt.fit_time[evt.MCP2]-evt.fit_time[evt.MCP1])*1000.\n",
    "                evt_dict['dt_mcp2_mcp1_'+xstal] = (evt.fit_time[evt.MCP2]-evt.fit_time[evt.MCP1])*1000.\n",
    "    \n",
    "            data.append(evt_dict)\n",
    "\n",
    "    df = pd.DataFrame(data) \n",
    "    dict_df_energy[energy] = df\n",
    "\n",
    "    pd_name = '%s/ECAL_H4_October2018_pandas_C3_%s.csv'%(trees_path,round_energy)\n",
    "    df.to_csv(pd_name)\n"
   ]
  },
  {
   "cell_type": "code",
   "execution_count": null,
   "metadata": {},
   "outputs": [],
   "source": []
  },
  {
   "cell_type": "code",
   "execution_count": 7,
   "metadata": {},
   "outputs": [],
   "source": [
    "dict_df_energy = {}\n",
    "#Event selection\n",
    "for energy in energies:\n",
    "    pd_name = '%s/ECAL_H4_October2018_pandas_C3_%s.csv'%(trees_path,energy)\n",
    "    df = pd.read_csv(pd_name)    \n",
    "    dict_df_energy[energy] = df"
   ]
  },
  {
   "cell_type": "markdown",
   "metadata": {},
   "source": [
    "## Event selection"
   ]
  },
  {
   "cell_type": "code",
   "execution_count": 8,
   "metadata": {},
   "outputs": [],
   "source": [
    "dt_cut = 500\n",
    "#Event selection\n",
    "for energy in energies:\n",
    "    df = dict_df_energy[energy]\n",
    "    dict_df_energy[energy] = df.loc[(df.dt_ecal_mcp1_C3<df['dt_ecal_mcp1_C3'].mean()+dt_cut) & (df.dt_ecal_mcp1_C3>df['dt_ecal_mcp1_C3'].mean()-dt_cut) \n",
    "      & (df.dt_ecal_mcp2_C3<df['dt_ecal_mcp2_C3'].mean()+dt_cut) & (df.dt_ecal_mcp2_C3>df['dt_ecal_mcp2_C3'].mean()-dt_cut) \n",
    "      & (df.dt_mcp2_mcp1_C3<df['dt_mcp2_mcp1_C3'].mean()+dt_cut) & (df.dt_mcp2_mcp1_C3>df['dt_mcp2_mcp1_C3'].mean()-dt_cut)]"
   ]
  },
  {
   "cell_type": "markdown",
   "metadata": {},
   "source": []
  },
  {
   "cell_type": "code",
   "execution_count": 9,
   "metadata": {},
   "outputs": [
    {
     "data": {
      "text/plain": [
       "0"
      ]
     },
     "execution_count": 9,
     "metadata": {},
     "output_type": "execute_result"
    }
   ],
   "source": [
    "gROOT.LoadMacro('utils/LLminimizer/LLminimizer.cc')\n"
   ]
  },
  {
   "cell_type": "code",
   "execution_count": 10,
   "metadata": {},
   "outputs": [
    {
     "name": "stdout",
     "output_type": "stream",
     "text": [
      "Analyzing energy  49.99\n",
      "Analyzing energy  99.83\n",
      "Analyzing energy  149.12\n",
      "Analyzing energy  197.27\n",
      "Analyzing energy  243.48\n"
     ]
    }
   ],
   "source": [
    "results_params = {}\n",
    "for energy in energies:\n",
    "    print 'Analyzing energy ',energy\n",
    "    df = dict_df_energy[energy]\n",
    "    time_minimizer = ROOT.LLminimizer(df['fit_ampl_MCP1'].shape[0],array('d',list(df['fit_ampl_MCP1'])),array('d',list(df['fit_ampl_MCP2'])),array('d',list(df['dt_ecal_mcp1_C3'])),array('d',list(df['dt_ecal_mcp2_C3'])),array('d',list(df['dt_mcp2_mcp1_C3'])),crystal,energy)\n",
    "    time_minimizer.MinimizeNLL()\n",
    "    res = {}\n",
    "    res['Cm'] = [time_minimizer.m_Cm_,time_minimizer.m_Cm_e_]\n",
    "    res['a1'] = [time_minimizer.m_a1_,time_minimizer.m_a1_e_]\n",
    "    res['b1'] = [time_minimizer.m_b1_,time_minimizer.m_b1_e_]\n",
    "    res['a2'] = [time_minimizer.m_a2_,time_minimizer.m_a2_e_]\n",
    "    res['b2'] = [time_minimizer.m_b2_,time_minimizer.m_b2_e_]\n",
    "    res['alpha'] = [time_minimizer.m_alpha_,time_minimizer.m_alpha_e_]\n",
    "    res['beta'] = [time_minimizer.m_beta_,time_minimizer.m_beta_e_]\n",
    "    res['gamma'] = [time_minimizer.m_gamma_,time_minimizer.m_gamma_e_]        \n",
    "    results_params[energy] = res\n"
   ]
  },
  {
   "cell_type": "code",
   "execution_count": 11,
   "metadata": {},
   "outputs": [],
   "source": [
    "#print results_params\n",
    "cm_res = array('d')\n",
    "energies_float = array('d')\n",
    "cm_e_res = array('d')\n",
    "energies_float_e = array('d')\n",
    "\n",
    "beam_scan_resolution = 0.005\n",
    "\n",
    "for energy in energies:\n",
    "    cm_res.append(results_params[energy]['Cm'][0])\n",
    "    cm_e_res.append(results_params[energy]['Cm'][1])\n",
    "    energies_float.append(float(energy))\n",
    "    energies_float_e.append(float(energy)*beam_scan_resolution)"
   ]
  },
  {
   "cell_type": "markdown",
   "metadata": {},
   "source": [
    "# Plot time resolution"
   ]
  },
  {
   "cell_type": "code",
   "execution_count": 12,
   "metadata": {},
   "outputs": [],
   "source": [
    "gROOT.ProcessLineSync(\".x utils/setTDRStyle.C\")\n",
    "gROOT.ForceStyle()\n",
    "gStyle.SetPadTopMargin(0.06)\n",
    "gStyle.SetPadRightMargin(0.04)\n",
    "gStyle.SetPadLeftMargin(0.2)"
   ]
  },
  {
   "cell_type": "code",
   "execution_count": 13,
   "metadata": {},
   "outputs": [
    {
     "name": "stderr",
     "output_type": "stream",
     "text": [
      "Info in <TCanvas::Print>: pdf file plots//05_08_2019//time_res_100_500ps_selection.pdf has been created\n",
      "Info in <TCanvas::Print>: png file plots//05_08_2019//time_res_100_500ps_selection.png has been created\n"
     ]
    },
    {
     "data": {
      "image/png": "[encoded data removed]",
      "text/plain": [
       "<IPython.core.display.Image object>"
      ]
     },
     "metadata": {},
     "output_type": "display_data"
    }
   ],
   "source": [
    "c1 = ROOT.TCanvas(\"c\",\"c\",500,500)\n",
    "c1.SetTickx(0)\n",
    "\n",
    "\n",
    "gres = ROOT.TGraphErrors(len(energies_float), energies_float , cm_res, energies_float_e, cm_e_res)\n",
    "gres.SetTitle(\";Beam Energy (GeV); Time resolution (ps)\")\n",
    "gres.Draw(\"AP\")\n",
    "gres.GetXaxis().SetNdivisions(507)\n",
    "gres.GetYaxis().SetRangeUser(0, 50)\n",
    "gres.Draw(\"AP\")\n",
    "st = gres.GetListOfFunctions().FindObject(\"stats\")\n",
    "#st.Delete()\n",
    "lg = ROOT.TLegend(0.38, 0.7, 0.9, 0.9)\n",
    "lg.AddEntry(gres, \"Single channel, 160 MS/s\", \"p\")\n",
    "lg.SetFillStyle(-1)\n",
    "lg.SetBorderSize(0)\n",
    "lg.SetTextFont(42)\n",
    "lg.SetTextSize(0.04)\n",
    "lg.Draw(\"same\")\n",
    "c1.Draw()\n",
    "\n",
    "c1.SetTopMargin(0.1)\n",
    "c1.Draw()\n",
    "c1.SaveAs('%s/time_res_%s.pdf'%(plot_folder,outstr))\n",
    "c1.SaveAs('%s/time_res_%s.png'%(plot_folder,outstr))\n"
   ]
  },
  {
   "cell_type": "markdown",
   "metadata": {},
   "source": [
    "## Plot time differences"
   ]
  },
  {
   "cell_type": "code",
   "execution_count": 12,
   "metadata": {
    "scrolled": false
   },
   "outputs": [
    {
     "data": {
      "image/png": "[encoded data removed]",
      "text/plain": [
       "<Figure size 432x288 with 1 Axes>"
      ]
     },
     "metadata": {
      "needs_background": "light"
     },
     "output_type": "display_data"
    },
    {
     "data": {
      "image/png": "[encoded data removed]",
      "text/plain": [
       "<Figure size 432x288 with 1 Axes>"
      ]
     },
     "metadata": {
      "needs_background": "light"
     },
     "output_type": "display_data"
    },
    {
     "name": "stderr",
     "output_type": "stream",
     "text": [
      "/cvmfs/sft.cern.ch/lcg/views/LCG_96/x86_64-centos7-gcc8-opt/lib/python2.7/site-packages/matplotlib/axes/_axes.py:6571: UserWarning: The 'normed' kwarg is deprecated, and has been replaced by the 'density' kwarg.\n",
      "  warnings.warn(\"The 'normed' kwarg is deprecated, and has been \"\n",
      "/usr/local/bin/start_ipykernel.py:17: MatplotlibDeprecationWarning: scipy.stats.norm.pdf\n"
     ]
    },
    {
     "data": {
      "image/png": "[encoded data removed]",
      "text/plain": [
       "<Figure size 432x288 with 1 Axes>"
      ]
     },
     "metadata": {
      "needs_background": "light"
     },
     "output_type": "display_data"
    },
    {
     "data": {
      "image/png": "[encoded data removed]",
      "text/plain": [
       "<Figure size 432x288 with 1 Axes>"
      ]
     },
     "metadata": {
      "needs_background": "light"
     },
     "output_type": "display_data"
    },
    {
     "data": {
      "image/png": "[encoded data removed]",
      "text/plain": [
       "<Figure size 432x288 with 1 Axes>"
      ]
     },
     "metadata": {
      "needs_background": "light"
     },
     "output_type": "display_data"
    },
    {
     "data": {
      "image/png": "[encoded data removed]",
      "text/plain": [
       "<Figure size 432x288 with 1 Axes>"
      ]
     },
     "metadata": {
      "needs_background": "light"
     },
     "output_type": "display_data"
    },
    {
     "data": {
      "image/png": "[encoded data removed]",
      "text/plain": [
       "<Figure size 432x288 with 1 Axes>"
      ]
     },
     "metadata": {
      "needs_background": "light"
     },
     "output_type": "display_data"
    }
   ],
   "source": [
    "df = dict_df_energy[energies[0]]\n",
    "plt.hist(list(df['fit_ampl_MCP1']),bins=50,range=[0,400])\n",
    "plt.show()\n",
    "plt.hist(list(df['fit_ampl_MCP2']),bins=50,range=[0,400])\n",
    "plt.show()\n",
    "\n",
    "\n",
    "from scipy.stats import norm\n",
    "import matplotlib.mlab as mlab\n",
    "#val = list(df.loc[(df.dt_ecal_mcp1_C3>2400) & (df.dt_ecal_mcp1_C3<2600)]['dt_ecal_mcp1_C3'])\n",
    "val = list(df['dt_ecal_mcp1_C3'])\n",
    "\n",
    "n,bins,_ = plt.hist(val,bins=50,range=[2400,2600],normed=1)\n",
    "# best fit of data\n",
    "(mu, sigma) = norm.fit(val,loc=2482.814488891773,scale=30.)\n",
    "# add a 'best fit' line\n",
    "y = mlab.normpdf( bins, mu, sigma)\n",
    "l = plt.plot(bins, y, 'r--', linewidth=2)\n",
    "plt.show()\n",
    "\n",
    "\n",
    "plt.hist(list(df['dt_ecal_mcp2_C3']),bins=50,range=[1000,1300])\n",
    "plt.show()\n",
    "plt.hist(list(df['dt_mcp2_mcp1_C3']),bins=50,range=[-5000,-4800])\n",
    "plt.show()\n",
    "plt.hist(list(df['fit_time_MCP2']),bins=50,range=[0,30])\n",
    "plt.show()\n",
    "plt.hist(list(df['fit_time_MCP1']),bins=50,range=[0,30])\n",
    "plt.show()\n"
   ]
  },
  {
   "cell_type": "code",
   "execution_count": 15,
   "metadata": {},
   "outputs": [
    {
     "name": "stdout",
     "output_type": "stream",
     "text": [
      "dt1 : energy 49.99, mean = 2598.336, std = 35.005, (75%                        )/2 = 21.441\n",
      "dt2 : energy 49.99, mean = 1258.424, std = 29.921, (75%                        )/2 = 18.989\n",
      "dt12MCP : energy 49.99, mean = -4898.087, std = 25.468, (75%                        )/2 = 15.570\n",
      "\n",
      "dt1 : energy 99.83, mean = 2618.866, std = 69.135, (75%                        )/2 = 42.582\n",
      "dt2 : energy 99.83, mean = 1294.287, std = 57.695, (75%                        )/2 = 30.621\n",
      "dt12MCP : energy 99.83, mean = -4913.421, std = 30.546, (75%                        )/2 = 17.537\n",
      "\n",
      "dt1 : energy 149.12, mean = 2498.942, std = 34.066, (75%                        )/2 = 21.260\n",
      "dt2 : energy 149.12, mean = 1152.446, std = 34.798, (75%                        )/2 = 22.656\n",
      "dt12MCP : energy 149.12, mean = -4891.505, std = 26.073, (75%                        )/2 = 15.784\n",
      "\n",
      "dt1 : energy 197.27, mean = 2490.104, std = 37.979, (75%                        )/2 = 23.347\n",
      "dt2 : energy 197.27, mean = 1140.673, std = 40.026, (75%                        )/2 = 25.065\n",
      "dt12MCP : energy 197.27, mean = -4888.568, std = 26.909, (75%                        )/2 = 16.048\n",
      "\n",
      "dt1 : energy 243.48, mean = 2481.852, std = 33.437, (75%                        )/2 = 19.911\n",
      "dt2 : energy 243.48, mean = 1134.230, std = 35.614, (75%                        )/2 = 21.512\n",
      "dt12MCP : energy 243.48, mean = -4890.377, std = 26.565, (75%                        )/2 = 15.756\n",
      "\n"
     ]
    }
   ],
   "source": [
    "for energy in energies:\n",
    "    df = dict_df_energy[energy]\n",
    "    print \"dt1 : energy %s, mean = %.3f, std = %.3f, (75%-25%)/2 = %.3f\"%(energy,df['dt_ecal_mcp1_C3'].mean(),df['dt_ecal_mcp1_C3'].std(),(df['dt_ecal_mcp1_C3'].quantile(0.75)-df['dt_ecal_mcp1_C3'].quantile(0.25))/2)\n",
    "    print \"dt2 : energy %s, mean = %.3f, std = %.3f, (75%-25%)/2 = %.3f\"%(energy,df['dt_ecal_mcp2_C3'].mean(),df['dt_ecal_mcp2_C3'].std(),(df['dt_ecal_mcp2_C3'].quantile(0.75)-df['dt_ecal_mcp2_C3'].quantile(0.25))/2)\n",
    "    print \"dt12MCP : energy %s, mean = %.3f, std = %.3f, (75%-25%)/2 = %.3f\"%(energy,df['dt_mcp2_mcp1_C3'].mean(),df['dt_mcp2_mcp1_C3'].std(),(df['dt_mcp2_mcp1_C3'].quantile(0.75)-df['dt_mcp2_mcp1_C3'].quantile(0.25))/2)\n",
    "    print "
   ]
  },
  {
   "cell_type": "code",
   "execution_count": null,
   "metadata": {},
   "outputs": [],
   "source": []
  },
  {
   "cell_type": "code",
   "execution_count": null,
   "metadata": {},
   "outputs": [],
   "source": []
  }
 ],
 "metadata": {
  "kernelspec": {
   "display_name": "Python 2",
   "language": "python",
   "name": "python2"
  },
  "language_info": {
   "codemirror_mode": {
    "name": "ipython",
    "version": 2
   },
   "file_extension": ".py",
   "mimetype": "text/x-python",
   "name": "python",
   "nbconvert_exporter": "python",
   "pygments_lexer": "ipython2",
   "version": "2.7.16"
  }
 },
 "nbformat": 4,
 "nbformat_minor": 2
}
