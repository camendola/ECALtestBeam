{
 "cells": [
  {
   "cell_type": "code",
   "execution_count": 83,
   "metadata": {},
   "outputs": [],
   "source": [
    "import ROOT\n",
    "from ROOT import RooRealVar,RooCBShape,RooDataHist,RooArgList,RooFit\n",
    "import csv\n",
    "import json\n",
    "import array as array"
   ]
  },
  {
   "cell_type": "code",
   "execution_count": 84,
   "metadata": {},
   "outputs": [],
   "source": [
    "reader = csv.reader(open('data/intercalibration19C.csv', 'r'))\n",
    "dict_run_cryst = {}\n",
    "for row in reader:\n",
    "    run,energy,crystal,_ = row\n",
    "    if energy=='149.12' :\n",
    "        dict_run_cryst[crystal] = run\n",
    "    \n",
    "##Now add runs for C2,C3,C4 \n",
    "reader = csv.reader(open('data/energyscans19C.csv', 'r'))\n",
    "for row in reader:\n",
    "    run,energy,crystal,_,_,_ = row\n",
    "    if energy=='149.12' and  (crystal=='C3' or crystal=='C2' or crystal=='C4' ) :\n",
    "        dict_run_cryst[crystal] = run\n",
    "        \n",
    "## Read crystal centers prepared by Simone \n",
    "reader = csv.reader(open('data/crystalscenters.csv', 'r'))\n",
    "dict_crystal_centers={}\n",
    "for row in reader:\n",
    "    crystal,xpos,ypos = row\n",
    "    if crystal!='Crystal' :\n",
    "        dict_crystal_centers[crystal] = [int(xpos),int(ypos)]"
   ]
  },
  {
   "cell_type": "code",
   "execution_count": 85,
   "metadata": {},
   "outputs": [],
   "source": [
    "naming = []\n",
    "for i in range(5,0,-1):\n",
    "    naming.append('A%d'%i)\n",
    "    naming.append('B%d'%i)\n",
    "    naming.append('C%d'%i)\n",
    "    naming.append('D%d'%i)\n",
    "    naming.append('E%d'%i)\n",
    "missing = 'A5,A4,E5,E4'.split(',')\n",
    "working = [item for item in naming]\n",
    "for item in missing:\n",
    "    working.remove(item)"
   ]
  },
  {
   "cell_type": "code",
   "execution_count": null,
   "metadata": {},
   "outputs": [],
   "source": []
  },
  {
   "cell_type": "code",
   "execution_count": null,
   "metadata": {
    "scrolled": false
   },
   "outputs": [],
   "source": []
  },
  {
   "cell_type": "code",
   "execution_count": null,
   "metadata": {
    "scrolled": false
   },
   "outputs": [],
   "source": [
    "crystal_maps=[]\n",
    "c = ROOT.TCanvas(\"c\",\"c\",900,900)\n",
    "c.Divide(5,5)\n",
    "canvas_num=0\n",
    "files=[]\n",
    "grmax=[]\n",
    "grmaxSimone=[]\n",
    "file_num = 0\n",
    "for crystal in naming:\n",
    "    if crystal in missing:\n",
    "        canvas_num+=1\n",
    "    else :\n",
    "        c.cd(canvas_num+1)\n",
    "    \n",
    "        run = dict_run_cryst[crystal]\n",
    "        files.append(ROOT.TFile(\"/eos/cms/store/group/dpg_ecal/comm_ecal/upgrade/testbeam/ECALTB_H4_Oct2018/ntuples_v5/ECAL_H4_October2018_%s.root\"%run))\n",
    "        tree = files[file_num].Get(\"h4\")\n",
    "        \n",
    "        tree.Draw(\"fit_ampl[%s]:Y:X>>hhnew2_%s(6,-15,15,6,-15,15,0,10000)\"%(crystal,crystal),\"n_tracks==1\",\"PROFCOLZ\")\n",
    "        htemp2 = ROOT.gPad.GetPrimitive(\"hhnew2_%s\"%crystal)\n",
    "        xmax =  htemp2.GetMean(1)\n",
    "        ymax = htemp2.GetMean(2)\n",
    "        \n",
    "        tree.Draw(\"fit_ampl[%s]:Y:X>>hhnew_%s(15,-15,15,15,-15,15,0,10000)\"%(crystal,crystal),\"n_tracks==1\",\"PROFCOLZ\")\n",
    "        hist2d = ROOT.gPad.GetPrimitive(\"hhnew_%s\"%crystal)\n",
    "        hist2d.SetTitle(crystal)\n",
    "        hist2d.GetXaxis().SetTitle('X (mm)')\n",
    "        hist2d.GetYaxis().SetTitle('Y (mm)')\n",
    "        hist2d.Draw(\"PROFCOLZsame\")\n",
    "        crystal_maps.append(hist2d)\n",
    "    \n",
    "        \n",
    "        \n",
    "        hist2d.GetXaxis().SetRange(hist2d.GetXaxis().FindBin(-10),hist2d.GetXaxis().FindBin(10))\n",
    "        hist2d.GetYaxis().SetRange(hist2d.GetYaxis().FindBin(-10),hist2d.GetYaxis().FindBin(10))\n",
    "        \n",
    "        hist2d.GetXaxis().SetRange(0,hist2d.GetNbinsX())\n",
    "        hist2d.GetYaxis().SetRange(0,hist2d.GetNbinsY())\n",
    "\n",
    "        grmax.append(ROOT.TGraph(1,array.array( 'd' ,[xmax]),array.array( 'd' ,[ymax])))\n",
    "        grmax[file_num].SetMarkerColor(ROOT.kMagenta+2);\n",
    "        grmax[file_num].SetMarkerStyle(29);\n",
    "        grmax[file_num].Draw(\"LPsame\")\n",
    "        \n",
    "        grmaxSimone.append(ROOT.TGraph(1,array.array( 'd' ,[dict_crystal_centers[crystal][0]]),array.array( 'd' ,[dict_crystal_centers[crystal][1]])))\n",
    "        grmaxSimone[file_num].SetMarkerColor(2);\n",
    "        grmaxSimone[file_num].SetMarkerStyle(29);\n",
    "        grmaxSimone[file_num].Draw(\"LPsame\")\n",
    "        \n",
    "        file_num+=1\n",
    "        canvas_num+=1\n",
    "c.Draw()\n",
    "c.SaveAs('plots/crystal_map.pdf')\n",
    "c.SaveAs('plots/crystal_map.png')\n"
   ]
  },
  {
   "cell_type": "code",
   "execution_count": null,
   "metadata": {
    "scrolled": false
   },
   "outputs": [],
   "source": [
    "pos_cut = 3\n",
    "\n",
    "c = ROOT.TCanvas(\"c\",\"c\",900,900)\n",
    "c.Divide(5,5)\n",
    "canvas_num=0\n",
    "files=[]\n",
    "file_num=0\n",
    "chi2s = []\n",
    "results = []\n",
    "hists_fits=[]\n",
    "trees=[]\n",
    "x,roohist,m,s,a,n,sig,res,frame = [],[],[],[],[],[],[],[],[]\n",
    "print 'here'\n",
    "#for crystal_num in range(0,len(naming)):\n",
    "#for crystal_num in range(0,3):\n",
    "#for crystal in naming:\n",
    "for crystal in ['A3','C3','B3']:\n",
    "    if crystal in missing:\n",
    "        canvas_num+=1\n",
    "    else :\n",
    "        c.cd(canvas_num+1) \n",
    "        print canvas_num\n",
    "        \n",
    "        run = dict_run_cryst[crystal]\n",
    "        files.append(ROOT.TFile(\"/eos/cms/store/group/dpg_ecal/comm_ecal/upgrade/testbeam/ECALTB_H4_Oct2018/ntuples_v5/ECAL_H4_October2018_%s.root\"%run))\n",
    "        trees.append(files[file_num].Get(\"h4\"))\n",
    "    \n",
    "        hist_ampl = ROOT.TH1F(\"hist_ampl_%s\"%crystal,\"hist_ampl_%s\"%crystal,300,2000,8000)\n",
    "        trees[file_num].Draw(\"fit_ampl[%s]>>hist_ampl_%s\"%(crystal,crystal),\"n_tracks==1 && fabs(X-(%.2f))<%.2f && fabs(Y-(%.2f))<%.2f\"%(dict_crystal_centers[crystal][0],dict_crystal_centers[crystal][1],pos_cut,pos_cut),\"\")\n",
    "        peak_position = hist_ampl.GetXaxis().GetBinCenter(hist_ampl.GetMaximumBin())\n",
    "\n",
    "    \n",
    "        x.append(RooRealVar(\"fit_ampl_%s\"%crystal,\"fit_ampl_%s\"%crystal,peak_position*0.8,peak_position*1.2))\n",
    "        roohist.append(RooDataHist(\"roohist_fit_%s\"%crystal,\"roohist_fit_%s\"%crystal,RooArgList(x[file_num]),hist_ampl))\n",
    "\n",
    "        m.append(RooRealVar(\"mean_%s\"%crystal,\"mean_%s\"%crystal,peak_position,peak_position*0.8,peak_position*1.2))\n",
    "        s.append(RooRealVar(\"sigma_%s\"%crystal,\"sigma_%s\"%crystal,60,0,500))\n",
    "        a.append(RooRealVar(\"alpha_%s\"%crystal,\"alpha_%s\"%crystal,0.5,0,10))\n",
    "        n.append(RooRealVar(\"exp_%s\"%crystal,\"exp_%s\"%crystal,7,0,150))\n",
    "        sig.append(RooCBShape(\"signal_%s\"%crystal,\"signal_%s\"%crystal,x[file_num],m[file_num],s[file_num],a[file_num],n[file_num]))\n",
    "\n",
    "        res.append(sig[file_num].fitTo(roohist[file_num]))#RooFit.Save())\n",
    "        res.Print()\n",
    "\n",
    "        frame.append(x[file_num].frame())\n",
    "        roohist[file_num].plotOn(frame[file_num],RooFit.Name(\"roohist_%s\"%crystal))\n",
    "        sig[file_num].plotOn(frame[file_num],RooFit.Name(\"signal_%s\"%crystal))\n",
    "        frame[file_num].Draw()\n",
    "        hists_fits.append(hist_ampl)\n",
    "        chi2s.append(frame[file_num].chiSquare(\"signal_%s\"%crystal,\"roohist_%s\"%crystal,4)) # 4 = nFitParameters from CB\n",
    "        \n",
    "        canvas_num+=1\n",
    "        file_num+=1\n",
    "c.Draw()\n",
    "c.SaveAs('plots/fits.pdf')\n",
    "c.SaveAs('plots/fits.png')"
   ]
  },
  {
   "cell_type": "code",
   "execution_count": 5,
   "metadata": {
    "scrolled": false
   },
   "outputs": [
    {
     "name": "stdout",
     "output_type": "stream",
     "text": [
      "1 13405 B5\n",
      "2 13407 C5\n",
      "3 13408 D5\n",
      "6 13404 B4\n",
      "7 13378 C4\n",
      "8 13409 D4\n",
      "10 13400 A3\n",
      "11 13403 B3\n",
      "12 13416 C3\n",
      "13 13410 D3\n",
      "14 13415 E3\n",
      "15 13399 A2\n",
      "16 13402 B2\n",
      "17 13377 C2\n",
      "18 13411 D2\n",
      "19 13414 E2\n",
      "20 13398 A1\n",
      "21 13401 B1\n",
      "22 13406 C1\n",
      "23 13412 D1\n",
      "24 13413 E1\n"
     ]
    },
    {
     "name": "stderr",
     "output_type": "stream",
     "text": [
      "Warning in <TCanvas::Constructor>: Deleting canvas with same name: c\n"
     ]
    },
    {
     "data": {
      "image/png": "[encoded data removed]",
      "text/plain": [
       "<IPython.core.display.Image object>"
      ]
     },
     "metadata": {},
     "output_type": "display_data"
    }
   ],
   "source": [
    "pos_cut = 3\n",
    "\n",
    "c = ROOT.TCanvas(\"c\",\"c\",900,900)\n",
    "c.Divide(5,5)\n",
    "canvas_num=0\n",
    "files=[]\n",
    "file_num=0\n",
    "chi2s = []\n",
    "results = []\n",
    "hists_fits=[]\n",
    "for crystal in naming:\n",
    "    if crystal in missing:\n",
    "        canvas_num+=1\n",
    "    else :\n",
    "        c.cd(canvas_num+1) \n",
    "        run = dict_run_cryst[crystal]\n",
    "        files.append(ROOT.TFile(\"/eos/cms/store/group/dpg_ecal/comm_ecal/upgrade/testbeam/ECALTB_H4_Oct2018/ntuples_v5/ECAL_H4_October2018_%s.root\"%run))\n",
    "        tree = files[file_num].Get(\"h4\")\n",
    "    \n",
    "        hist_ampl = ROOT.TH1F(\"hist_ampl_%s\"%crystal,\"hist_ampl_%s\"%crystal,50,2000,7000)\n",
    "        tree.Draw(\"fit_ampl[%s]>>hist_ampl_%s\"%(crystal,crystal),\"n_tracks==1 && fabs(X-(%.2f))<%.2f && fabs(Y-(%.2f))<%.2f\"%(dict_crystal_centers[crystal][0],dict_crystal_centers[crystal][1],pos_cut,pos_cut),\"\")\n",
    "       # tree.Draw(\"fit_ampl[%s]>>hist_ampl_%s\"%(crystal,crystal),\"n_tracks==1\",\"\")\n",
    "        peak_position = hist_ampl.GetXaxis().GetBinCenter(hist_ampl.GetMaximumBin())\n",
    "        \n",
    "        hist_ampl.Draw()\n",
    "        hists_fits.append(hist_ampl)\n",
    "        \n",
    "        canvas_num+=1\n",
    "        file_num+=1\n",
    "\n",
    "c.Draw()"
   ]
  },
  {
   "cell_type": "markdown",
   "metadata": {},
   "source": [
    "## Equalize response for 3x3 matrix wrt to C3"
   ]
  },
  {
   "cell_type": "code",
   "execution_count": 5,
   "metadata": {},
   "outputs": [],
   "source": [
    "with open('output/intercarlibration_results.json') as json_file:\n",
    "    fit_results = json.load(json_file)"
   ]
  },
  {
   "cell_type": "code",
   "execution_count": 6,
   "metadata": {},
   "outputs": [],
   "source": [
    "dict_crystals_calibration = {}\n",
    "\n",
    "for key in fit_results:\n",
    "    dict_crystals_calibration[key] = fit_results['C3'][1:2][0][0]/fit_results[key][1:2][0][0]"
   ]
  },
  {
   "cell_type": "code",
   "execution_count": 7,
   "metadata": {},
   "outputs": [],
   "source": [
    "##Read C3 energy scans\n",
    "dict_C3_energy_scan = {}\n",
    "reader = csv.reader(open('data/energyscans19C.csv', 'r'))\n",
    "for row in reader:\n",
    "    run,energy,crystal,_,_,_ = row\n",
    "    if crystal=='C3' :\n",
    "        if energy in dict_C3_energy_scan.keys() :\n",
    "            dict_C3_energy_scan[energy].append(run)\n",
    "        else : \n",
    "            dict_C3_energy_scan[energy] = []\n",
    "            dict_C3_energy_scan[energy].append(run)"
   ]
  },
  {
   "cell_type": "code",
   "execution_count": null,
   "metadata": {},
   "outputs": [],
   "source": []
  },
  {
   "cell_type": "code",
   "execution_count": null,
   "metadata": {},
   "outputs": [],
   "source": [
    "pos_cut = 3\n",
    "\n",
    "crystal_maps=[]\n",
    "c = ROOT.TCanvas(\"c\",\"c\",900,900)\n",
    "c.Divide(1,5)\n",
    "canvas_num=0\n",
    "files=[]\n",
    "file_num = 0\n",
    "chi2s = []\n",
    "results = []\n",
    "hists_fits=[]\n",
    "trees=[]\n",
    "x,roohist,m,s,a,n,sig,res,frame = [],[],[],[],[],[],[],[],[]\n",
    "dict_energy_means={}\n",
    "for energy in dict_C3_energy_scan.keys():\n",
    "        canvas_num+=1\n",
    "    else :\n",
    "        c.cd(canvas_num+1)\n",
    "    \n",
    "        runs = dict_C3_energy_scan[energy]\n",
    "        tree = ROOT.TChain(\"h4\")\n",
    "        for run in runs:\n",
    "            tree.Add(\"/eos/cms/store/group/dpg_ecal/comm_ecal/upgrade/testbeam/ECALTB_H4_Oct2018/ntuples_v5/ECAL_H4_October2018_%s.root\"%run)\n",
    "\n",
    "        hist_ampl = ROOT.TH1F(\"hist_ampl_%s\"%energy,\"hist_ampl_%s\"%energy,300,2000,8000)\n",
    "        trees[file_num].Draw(\"fit_ampl[%s]>>hist_ampl_%s\"%(energy,energy),\"n_tracks==1 && fabs(X-(%.2f))<%.2f && fabs(Y-(%.2f))<%.2f\"%(dict_crystal_centers[crystal][0],dict_crystal_centers[crystal][1],pos_cut,pos_cut),\"\")\n",
    "        peak_position = hist_ampl.GetXaxis().GetBinCenter(hist_ampl.GetMaximumBin())\n",
    "        ymax_value = hist_ampl.GetMaximum()\n",
    "\n",
    "\n",
    "        x.append(RooRealVar(\"fit_ampl_%dGeV\"%round(float(energy),-1),\"fit_ampl_%dGeV\"%round(float(energy),-1),peak_position*0.8,peak_position*1.2))\n",
    "        roohist.append(RooDataHist(\"roohist_fit_%s\"%energy,\"roohist_fit_%s\"%energy,RooArgList(x[file_num]),hist_ampl))\n",
    "\n",
    "        m.append(RooRealVar(\"mean_%s\"%energy,\"mean_%s\"%energy,peak_position,peak_position*0.8,peak_position*1.2))\n",
    "        s.append(RooRealVar(\"sigma_%s\"%energy,\"sigma_%s\"%energy,60,0,500))\n",
    "        a.append(RooRealVar(\"alpha_%s\"%energy,\"alpha_%s\"%energy,0.5,0,10))\n",
    "        n.append(RooRealVar(\"exp_%s\"%energy,\"exp_%s\"%energy,7,0,150))\n",
    "        sig.append(RooCBShape(\"signal_%s\"%energy,\"signal_%s\"%energy,x[file_num],m[file_num],s[file_num],a[file_num],n[file_num]))\n",
    "\n",
    "        res.append(sig[file_num].fitTo(roohist[file_num]))#RooFit.Save())\n",
    "        #res.Print()\n",
    "\n",
    "        frame.append(x[file_num].frame())\n",
    "        roohist[file_num].plotOn(frame[file_num],RooFit.Name(\"roohist_%s\"%energy))\n",
    "        sig[file_num].plotOn(frame[file_num],RooFit.Name(\"signal_%s\"%energy))\n",
    "        hists_fits.append(hist_ampl)\n",
    "        chi2s.append(frame[file_num].chiSquare(\"signal_%s\"%energy,\"roohist_%s\"%energy,4)) # 4 = nFitParameters from CB\n",
    "\n",
    "        sig[file_num].paramOn(frame[file_num],RooFit.Layout(0.65,0.99,0.8))\n",
    "        frame[file_num].getAttText().SetTextSize(0.03)\n",
    "\n",
    "        txt_chi2 = ROOT.TText(peak_position*0.83,ymax_value*0.95,\"Chi2 = %.1f\"%chi2s[file_num])\n",
    "        txt_chi2.SetTextSize(0.04)\n",
    "        txt_chi2.SetTextColor(ROOT.kRed)\n",
    "        frame[file_num].addObject(txt_chi2)\n",
    "\n",
    "        frame[file_num].Draw()\n",
    "\n",
    "        dict_energy_means[energy] = ['CBmean',[m[file_num].getVal(),m[file_num].getError()],['CBsigma',s[file_num].getVal(),s[file_num].getError()]]\n",
    "\n",
    "        canvas_num+=1\n",
    "        file_num+=1\n",
    "c.Draw()\n",
    "c.SaveAs('plots/C3_fits_cut%dmm.pdf'%pos_cut)\n",
    "c.SaveAs('plots/C3_fits_cut%dmm.png'%pos_cut)"
   ]
  },
  {
   "cell_type": "code",
   "execution_count": 89,
   "metadata": {},
   "outputs": [],
   "source": [
    "with open('output/energyscans_C3_results.json') as json_file:\n",
    "    fit_C3_results = json.load(json_file)"
   ]
  },
  {
   "cell_type": "code",
   "execution_count": 90,
   "metadata": {},
   "outputs": [],
   "source": [
    "energies = [float(item) for item in fit_C3_results.keys()]\n",
    "means_C3 = [fit_C3_results[str(item)][1:2][0][0] for item in energies]\n",
    "means_unc_C3 = [fit_C3_results[str(item)][1:2][0][1] for item in energies]"
   ]
  },
  {
   "cell_type": "code",
   "execution_count": 82,
   "metadata": {},
   "outputs": [
    {
     "name": "stdout",
     "output_type": "stream",
     "text": [
      "ADC to GeV convesion factor = 0.025\n"
     ]
    },
    {
     "data": {
      "image/png": "[encoded data removed]",
      "text/plain": [
       "<Figure size 432x288 with 1 Axes>"
      ]
     },
     "metadata": {},
     "output_type": "display_data"
    }
   ],
   "source": [
    "import matplotlib\n",
    "import matplotlib.pyplot as plt\n",
    "from scipy.optimize import curve_fit\n",
    "import numpy as np\n",
    "\n",
    "def linear_func(x, a, b):\n",
    "    return a * x + b\n",
    "\n",
    "fig, ax = plt.subplots()\n",
    "ax.plot(energies, means_C3,'bo' )\n",
    "popt, pcov = curve_fit(linear_func, energies, means_C3)\n",
    "\n",
    "shower_energy = 0.79\n",
    "conversion_factor = 0.79/popt[0]\n",
    "print 'ADC to GeV convesion factor = %.3f'%conversion_factor\n",
    "\n",
    "xfine = np.linspace(40., 250., 1000)  # define values to plot the function for\n",
    "ax.plot(xfine, linear_func(xfine, popt[0], popt[1]), 'r-',label='linear fit, alpha = %.3f'%conversion_factor)\n",
    "ax.set(xlabel='Energy (GeV)', ylabel='ADC CBmean ',\n",
    "       title='ADC to GeV')\n",
    "\n",
    "plt.legend()\n",
    "plt.grid()\n",
    "plt.show()\n",
    "fig.savefig('plots/ADC_to_GeV.png')\n",
    "fig.savefig('plots/ADC_to_GeV.pdf')\n",
    "\n",
    "\n",
    "dict_crystals_calibration['conversion_factor'] = conversion_factor\n",
    "with open('output/conversion_factor.json', 'w') as fp:\n",
    "    json.dump(dict_crystals_calibration, fp)"
   ]
  },
  {
   "cell_type": "markdown",
   "metadata": {},
   "source": [
    "### Sum of calibrated energies in matrix 3x3 vs energy"
   ]
  },
  {
   "cell_type": "code",
   "execution_count": 86,
   "metadata": {},
   "outputs": [],
   "source": [
    "with open('output/energy_sums.json') as json_file:\n",
    "    energy_sums = json.load(json_file)"
   ]
  },
  {
   "cell_type": "code",
   "execution_count": null,
   "metadata": {},
   "outputs": [],
   "source": []
  },
  {
   "cell_type": "code",
   "execution_count": 125,
   "metadata": {},
   "outputs": [
    {
     "name": "stdout",
     "output_type": "stream",
     "text": [
      "fit params :  -0.0011500682609396546 0.18508673338555565\n",
      "fit params :  -0.003643384227921856 0.8578421243004611\n"
     ]
    },
    {
     "data": {
      "image/png": "[encoded data removed]",
      "text/plain": [
       "<Figure size 432x288 with 2 Axes>"
      ]
     },
     "metadata": {},
     "output_type": "display_data"
    }
   ],
   "source": [
    "import matplotlib\n",
    "import matplotlib.pyplot as plt\n",
    "from scipy.optimize import curve_fit\n",
    "import numpy as np\n",
    "\n",
    "def linear_func(x, a, b):\n",
    "    return a * x + b\n",
    "\n",
    "fig, ax = plt.subplots(2)\n",
    "for  num,which_matrix in enumerate(['matrix_3_3','matrix_5_5']):\n",
    "    energy_sums_list = [energy_sums[which_matrix][str(item)] for item in energies]\n",
    "    energy_rel_diff = []\n",
    "    for i in range(0,len(energies)):\n",
    "        energy_rel_diff.append((energy_sums_list[i]-energies[i])/energies[i])\n",
    "    ax[num].plot(energies, energy_rel_diff,'bo' )\n",
    "    popt, pcov = curve_fit(linear_func, energies,energy_rel_diff )\n",
    "    xfine = np.linspace(40., 250., 1000)  # define values to plot the function for\n",
    "   # ax[num].plot(xfine, linear_func(xfine, popt[0], popt[1]), 'r-',label='linear fit')\n",
    "    ax[num].set(xlabel='Beam Energy (GeV)', ylabel='Relative energy difference',\n",
    "       title='%s'%which_matrix)\n",
    "\n",
    "    print 'fit params : ',popt[0],popt[1]\n",
    "    ax[num].grid()\n",
    "    ax[num].legend()\n",
    "    \n",
    "plt.subplots_adjust(hspace=1.)    \n",
    "plt.show()\n",
    "fig.savefig('plots/sum_energy_matrices.png')\n",
    "fig.savefig('plots/sum_energy_matrices.pdf')"
   ]
  },
  {
   "cell_type": "code",
   "execution_count": null,
   "metadata": {},
   "outputs": [],
   "source": []
  },
  {
   "cell_type": "code",
   "execution_count": null,
   "metadata": {},
   "outputs": [],
   "source": []
  }
 ],
 "metadata": {
  "kernelspec": {
   "display_name": "Python 2",
   "language": "python",
   "name": "python2"
  },
  "language_info": {
   "codemirror_mode": {
    "name": "ipython",
    "version": 2
   },
   "file_extension": ".py",
   "mimetype": "text/x-python",
   "name": "python",
   "nbconvert_exporter": "python",
   "pygments_lexer": "ipython2",
   "version": "2.7.15"
  }
 },
 "nbformat": 4,
 "nbformat_minor": 2
}
